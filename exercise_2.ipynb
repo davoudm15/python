{
 "cells": [
  {
   "cell_type": "code",
   "execution_count": 4,
   "id": "c6cf4f8a",
   "metadata": {},
   "outputs": [],
   "source": [
    "import numpy as np\n",
    "import torch\n",
    "import csv\n",
    "import cv2\n",
    "import unittest\n",
    "import sys\n",
    "import os\n",
    "import pandas\n",
    "import pandas as pd\n",
    "import shutil\n",
    "import glob\n",
    "import pickle\n",
    "import albumentations\n",
    "from albumentations import augmentations\n",
    "from enum import Enum\n",
    "from skimage import data\n",
    "from typing import Iterable, Tuple, List, Union, Set, Any, Dict, Optional, Any, Callable, Sized\n",
    "from torch.utils.tensorboard import SummaryWriter\n",
    "import torch.utils\n",
    "import torch.utils.data\n",
    "import torch.nn as nn\n",
    "import torch.optim as optim\n",
    "import torchvision\n",
    "import torchvision.transforms as transforms\n",
    "\"\"\"import elements.common\"\"\"\n",
    "NoneType = type(None)\n",
    "\"\"\"from elements.common.utils import get_logger\n",
    "logger = get_logger('notebook_logs')\"\"\"\n",
    "import csv\n",
    "import matplotlib.pyplot as plt\n",
    "from IPython.display import display, clear_output\n",
    "import time\n"
   ]
  },
  {
   "cell_type": "code",
   "execution_count": 19,
   "id": "42e98188",
   "metadata": {},
   "outputs": [],
   "source": [
    "# You can copy this code to your personal pipeline project or execute it here.\n",
    "def swap(coords: np.ndarray):\n",
    "    \"\"\"\n",
    "    This method will flip the x and y coordinates in the coords array.\n",
    "\n",
    "    :param coords: A numpy array of bounding box coordinates with shape [n,5] in format:\n",
    "        ::\n",
    "\n",
    "            [[x11, y11, x12, y12, classid1],\n",
    "             [x21, y21, x22, y22, classid2],\n",
    "             ...\n",
    "             [xn1, yn1, xn2, yn2, classid3]]\n",
    "\n",
    "    :return: The new numpy array where the x and y coordinates are flipped.\n",
    "\n",
    "    **This method is part of a series of debugging exercises.**\n",
    "    **Each Python method of this series contains bug that needs to be found.**\n",
    "\n",
    "    | ``1   Can you spot the obvious error?``\n",
    "    | ``2   After fixing the obvious error it is still wrong, how can this be fixed?``\n",
    "\n",
    "    >>> import numpy as np\n",
    "    >>> coords = np.array([[10, 5, 15, 6, 0],\n",
    "    ...                    [11, 3, 13, 6, 0],\n",
    "    ...                    [5, 3, 13, 6, 1],\n",
    "    ...                    [4, 4, 13, 6, 1],\n",
    "    ...                    [6, 5, 13, 16, 1]])\n",
    "    >>> swapped_coords = swap(coords)\n",
    "\n",
    "    The example demonstrates the issue. The returned swapped_coords are expected to have swapped\n",
    "    x and y coordinates in each of the rows.\n",
    "    \"\"\"\n",
    "    coords_copy = coords.copy()\n",
    "    coords[:, 0], coords[:, 1], coords[:, 2], coords[:, 3] = coords_copy[:, 1], coords_copy[:, 0],coords_copy[:, 3], coords_copy[:, 2]\n",
    "    return coords"
   ]
  },
  {
   "cell_type": "code",
   "execution_count": 21,
   "id": "de84367c",
   "metadata": {},
   "outputs": [
    {
     "name": "stdout",
     "output_type": "stream",
     "text": [
      "[[ 5 10  6 15  0]\n",
      " [ 3 11  6 13  0]\n",
      " [ 3  5  6 13  1]\n",
      " [ 4  4  6 13  1]\n",
      " [ 5  6 16 13  1]]\n"
     ]
    }
   ],
   "source": [
    "coords = np.array([[10, 5, 15, 6, 0],\n",
    "                   [11, 3, 13, 6, 0],\n",
    "                   [5, 3, 13, 6, 1],\n",
    "                   [4, 4, 13, 6, 1],\n",
    "                   [6, 5, 13, 16, 1]])\n",
    "swapped_coords = swap(coords)\n",
    "print(swapped_coords)"
   ]
  },
  {
   "cell_type": "markdown",
   "id": "915ccc2a",
   "metadata": {},
   "source": [
    "The bug this code is when x11 = y11, the value of x11 has changed. For this reason when we want to set the value of the y11 equal to the x11, the value of x11 is same with y11. For fixing this bug before flip the x and y coordinates we can make copy of coords list and use of the copy for fliping;"
   ]
  },
  {
   "cell_type": "code",
   "execution_count": null,
   "id": "947091de",
   "metadata": {},
   "outputs": [],
   "source": []
  }
 ],
 "metadata": {
  "kernelspec": {
   "display_name": "Python 3 (ipykernel)",
   "language": "python",
   "name": "python3"
  },
  "language_info": {
   "codemirror_mode": {
    "name": "ipython",
    "version": 3
   },
   "file_extension": ".py",
   "mimetype": "text/x-python",
   "name": "python",
   "nbconvert_exporter": "python",
   "pygments_lexer": "ipython3",
   "version": "3.9.10"
  }
 },
 "nbformat": 4,
 "nbformat_minor": 5
}

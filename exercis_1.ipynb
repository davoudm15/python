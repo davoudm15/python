{
 "cells": [
  {
   "cell_type": "code",
   "execution_count": 34,
   "id": "a147d38e",
   "metadata": {},
   "outputs": [],
   "source": [
    "from typing import Iterable, Tuple, List, Union, Set, Any, Dict, Optional, Any, Callable, Sized\n",
    "# You can copy this code to your personal pipeline project or execute it here.\n",
    "def id_to_fruit(fruit_id: int, fruits: List[str]) -> str:\n",
    "    \"\"\"\n",
    "    This method returns the fruit name by getting the string at a specific index of the set.\n",
    "\n",
    "    :param fruit_id: The id of the fruit to get\n",
    "    :param fruits: The set of fruits to choose the id from\n",
    "    :return: The string corrosponding to the index ``fruit_id``\n",
    "\n",
    "    **This method is part of a series of debugging exercises.**\n",
    "    **Each Python method of this series contains bug that needs to be found.**\n",
    "\n",
    "    | ``1   It does not print the fruit at the correct index, why is the returned result wrong?``\n",
    "    | ``2   How could this be fixed?``\n",
    "\n",
    "    This example demonstrates the issue:\n",
    "    name1, name3 and name4 are expected to correspond to the strings at the indices 1, 3, and 4:\n",
    "    'orange', 'kiwi' and 'strawberry'..\n",
    "\n",
    "    >>> name1 = id_to_fruit(1, {\"apple\", \"orange\", \"melon\", \"kiwi\", \"strawberry\"})\n",
    "    >>> name3 = id_to_fruit(3, {\"apple\", \"orange\", \"melon\", \"kiwi\", \"strawberry\"})\n",
    "    >>> name4 = id_to_fruit(4, {\"apple\", \"orange\", \"melon\", \"kiwi\", \"strawberry\"})\n",
    "    \"\"\"\n",
    "    \n",
    "    idx = 0\n",
    "    for fruit in fruits:\n",
    "        if fruit_id == idx:\n",
    "            return fruit\n",
    "        idx += 1\n",
    "    raise RuntimeError(f\"Fruit with id {fruit_id} does not exist\")\n"
   ]
  },
  {
   "cell_type": "code",
   "execution_count": 35,
   "id": "62aa7fa1",
   "metadata": {},
   "outputs": [
    {
     "name": "stdout",
     "output_type": "stream",
     "text": [
      "orange  -  kiwi  -  strawberry\n"
     ]
    }
   ],
   "source": [
    "fruits = [\"apple\", \"orange\", \"melon\", \"kiwi\", \"strawberry\"]\n",
    "name1 = id_to_fruit(1, fruits)\n",
    "name3 = id_to_fruit(3, fruits)\n",
    "name4 = id_to_fruit(4, fruits)\n",
    "print(name1,' - ', name3, ' - ', name4)\n"
   ]
  },
  {
   "cell_type": "markdown",
   "id": "5c8d8000",
   "metadata": {},
   "source": [
    "The bug this code is fruits's data type. It is a Set. For fixing it we can use of List \n",
    "\n"
   ]
  }
 ],
 "metadata": {
  "kernelspec": {
   "display_name": "Python 3 (ipykernel)",
   "language": "python",
   "name": "python3"
  },
  "language_info": {
   "codemirror_mode": {
    "name": "ipython",
    "version": 3
   },
   "file_extension": ".py",
   "mimetype": "text/x-python",
   "name": "python",
   "nbconvert_exporter": "python",
   "pygments_lexer": "ipython3",
   "version": "3.9.10"
  }
 },
 "nbformat": 4,
 "nbformat_minor": 5
}
